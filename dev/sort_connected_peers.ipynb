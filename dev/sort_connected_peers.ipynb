{
 "cells": [
  {
   "cell_type": "code",
   "execution_count": 72,
   "metadata": {},
   "outputs": [],
   "source": [
    "from datetime import datetime"
   ]
  },
  {
   "cell_type": "code",
   "execution_count": 73,
   "metadata": {},
   "outputs": [],
   "source": [
    "## Current possible state \n",
    "# Remove ip since we already have it in the socket?\n",
    "\n",
    "peers = [['socket_placeholder', ['11.11.11.11', 32686],   'leecher',    'choke'],\n",
    "         ['socket_placeholder', ['11.11.11.11', 6882],     'leecher',   'unchoke'],\n",
    "         ['socket_placeholder', ['11.11.11.11', 51873],    'seeder',    'unchoke'],\n",
    "         ['socket_placeholder', ['11.11.11.11', 5183],    'seeder',    'choke'],\n",
    "         ['socket_placeholder', ['11.11.11.11', 49964],    'leecher',   'unchoke'],\n",
    "         ['socket_placeholder', ['11.11.11.11', 35762],    'seeder',    'choke'],\n",
    "         ['socket_placeholder', ['11.11.11.11', 56804],    'leecher',   'unchoke'],\n",
    "         ['socket_placeholder', ['11.11.11.11', 34848],    'leecher',   'unchoke']]\n"
   ]
  },
  {
   "cell_type": "code",
   "execution_count": 74,
   "metadata": {},
   "outputs": [],
   "source": [
    "def pprint(peers):\n",
    "    \"\"\" tinytorrent print style for peers \"\"\"\n",
    "    if peers:\n",
    "        split_1 = max([len(str(i[1])) for i in peers])\n",
    "        split_2 = max([len(str(i[2])) for i in peers])\n",
    "\n",
    "        for peer in peers:\n",
    "            print(f\"{datetime.now()} [PEER] Peer: {peer[1]}, {' ' * (split_1-len(str(peer[1])))} contribution: {peer[2]}, {' ' * (split_2-len(str(peer[2])))} state: {peer[3]}\")\n",
    "\n",
    "    else:\n",
    "        print(f\"{datetime.now()} [PEER] No active peers\")"
   ]
  },
  {
   "cell_type": "code",
   "execution_count": 75,
   "metadata": {},
   "outputs": [
    {
     "name": "stdout",
     "output_type": "stream",
     "text": [
      "[['socket_placeholder', ['11.11.11.11', 32686], 'leecher', 'choke'], ['socket_placeholder', ['11.11.11.11', 6882], 'leecher', 'unchoke'], ['socket_placeholder', ['11.11.11.11', 51873], 'seeder', 'unchoke'], ['socket_placeholder', ['11.11.11.11', 5183], 'seeder', 'choke'], ['socket_placeholder', ['11.11.11.11', 49964], 'leecher', 'unchoke'], ['socket_placeholder', ['11.11.11.11', 35762], 'seeder', 'choke'], ['socket_placeholder', ['11.11.11.11', 56804], 'leecher', 'unchoke'], ['socket_placeholder', ['11.11.11.11', 34848], 'leecher', 'unchoke']]\n"
     ]
    }
   ],
   "source": [
    "print(peers)"
   ]
  },
  {
   "cell_type": "code",
   "execution_count": 76,
   "metadata": {},
   "outputs": [
    {
     "name": "stdout",
     "output_type": "stream",
     "text": [
      "2023-05-24 13:29:21.864134 [PEER] Peer: ['11.11.11.11', 32686],  contribution: leecher,  state: choke\n",
      "2023-05-24 13:29:21.864134 [PEER] Peer: ['11.11.11.11', 6882],   contribution: leecher,  state: unchoke\n",
      "2023-05-24 13:29:21.864134 [PEER] Peer: ['11.11.11.11', 51873],  contribution: seeder,   state: unchoke\n",
      "2023-05-24 13:29:21.864134 [PEER] Peer: ['11.11.11.11', 5183],   contribution: seeder,   state: choke\n",
      "2023-05-24 13:29:21.864134 [PEER] Peer: ['11.11.11.11', 49964],  contribution: leecher,  state: unchoke\n",
      "2023-05-24 13:29:21.864134 [PEER] Peer: ['11.11.11.11', 35762],  contribution: seeder,   state: choke\n",
      "2023-05-24 13:29:21.864134 [PEER] Peer: ['11.11.11.11', 56804],  contribution: leecher,  state: unchoke\n",
      "2023-05-24 13:29:21.864134 [PEER] Peer: ['11.11.11.11', 34848],  contribution: leecher,  state: unchoke\n"
     ]
    }
   ],
   "source": [
    "pprint(peers)"
   ]
  },
  {
   "cell_type": "code",
   "execution_count": 82,
   "metadata": {},
   "outputs": [
    {
     "name": "stdout",
     "output_type": "stream",
     "text": [
      "2023-05-24 13:31:55.584505 [PEER] Peer: ['11.11.11.11', 51873],  contribution: seeder,   state: unchoke\n",
      "2023-05-24 13:31:55.584505 [PEER] Peer: ['11.11.11.11', 5183],   contribution: seeder,   state: choke\n",
      "2023-05-24 13:31:55.584505 [PEER] Peer: ['11.11.11.11', 35762],  contribution: seeder,   state: choke\n",
      "2023-05-24 13:31:55.584505 [PEER] Peer: ['11.11.11.11', 6882],   contribution: leecher,  state: unchoke\n",
      "2023-05-24 13:31:55.584505 [PEER] Peer: ['11.11.11.11', 49964],  contribution: leecher,  state: unchoke\n",
      "2023-05-24 13:31:55.584505 [PEER] Peer: ['11.11.11.11', 56804],  contribution: leecher,  state: unchoke\n",
      "2023-05-24 13:31:55.584505 [PEER] Peer: ['11.11.11.11', 34848],  contribution: leecher,  state: unchoke\n",
      "2023-05-24 13:31:55.584505 [PEER] Peer: ['11.11.11.11', 32686],  contribution: leecher,  state: choke\n"
     ]
    }
   ],
   "source": [
    "def rank_peers(peers):\n",
    "    \"\"\" Simple raking function for testing \"\"\"\n",
    "    seeders = [i for i in peers if i[2] == 'seeder']\n",
    "    seeders = sorted(seeders, key=lambda x: x[3], reverse=True)\n",
    "    leechers = [i for i in peers if i[2] == 'leecher']\n",
    "    leechers = sorted(leechers, key=lambda x: x[3], reverse=True)\n",
    "    return seeders + leechers\n",
    "\n",
    "sorted_peers = rank_peers(peers)\n",
    "pprint(sorted_peers)  "
   ]
  }
 ],
 "metadata": {
  "kernelspec": {
   "display_name": "venv",
   "language": "python",
   "name": "python3"
  },
  "language_info": {
   "codemirror_mode": {
    "name": "ipython",
    "version": 3
   },
   "file_extension": ".py",
   "mimetype": "text/x-python",
   "name": "python",
   "nbconvert_exporter": "python",
   "pygments_lexer": "ipython3",
   "version": "3.11.3"
  },
  "orig_nbformat": 4
 },
 "nbformat": 4,
 "nbformat_minor": 2
}
